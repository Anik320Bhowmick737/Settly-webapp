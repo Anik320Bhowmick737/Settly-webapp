{
  "cells": [
    {
      "cell_type": "code",
      "execution_count": 5,
      "metadata": {
        "colab": {
          "base_uri": "https://localhost:8080/"
        },
        "id": "KtxDCuLrSQST",
        "outputId": "8c42327b-28a8-4f0a-c0fa-8af9837e8d0d"
      },
      "outputs": [
        {
          "name": "stdout",
          "output_type": "stream",
          "text": [
            "Requirement already satisfied: flask-ngrok in /usr/local/lib/python3.10/dist-packages (0.0.25)\n",
            "Requirement already satisfied: Flask>=0.8 in /usr/local/lib/python3.10/dist-packages (from flask-ngrok) (2.2.5)\n",
            "Requirement already satisfied: requests in /usr/local/lib/python3.10/dist-packages (from flask-ngrok) (2.32.3)\n",
            "Requirement already satisfied: Werkzeug>=2.2.2 in /usr/local/lib/python3.10/dist-packages (from Flask>=0.8->flask-ngrok) (3.0.3)\n",
            "Requirement already satisfied: Jinja2>=3.0 in /usr/local/lib/python3.10/dist-packages (from Flask>=0.8->flask-ngrok) (3.1.4)\n",
            "Requirement already satisfied: itsdangerous>=2.0 in /usr/local/lib/python3.10/dist-packages (from Flask>=0.8->flask-ngrok) (2.2.0)\n",
            "Requirement already satisfied: click>=8.0 in /usr/local/lib/python3.10/dist-packages (from Flask>=0.8->flask-ngrok) (8.1.7)\n",
            "Requirement already satisfied: charset-normalizer<4,>=2 in /usr/local/lib/python3.10/dist-packages (from requests->flask-ngrok) (3.3.2)\n",
            "Requirement already satisfied: idna<4,>=2.5 in /usr/local/lib/python3.10/dist-packages (from requests->flask-ngrok) (3.7)\n",
            "Requirement already satisfied: urllib3<3,>=1.21.1 in /usr/local/lib/python3.10/dist-packages (from requests->flask-ngrok) (2.0.7)\n",
            "Requirement already satisfied: certifi>=2017.4.17 in /usr/local/lib/python3.10/dist-packages (from requests->flask-ngrok) (2024.7.4)\n",
            "Requirement already satisfied: MarkupSafe>=2.0 in /usr/local/lib/python3.10/dist-packages (from Jinja2>=3.0->Flask>=0.8->flask-ngrok) (2.1.5)\n",
            "Requirement already satisfied: pyngrok in /usr/local/lib/python3.10/dist-packages (7.2.0)\n",
            "Requirement already satisfied: PyYAML>=5.1 in /usr/local/lib/python3.10/dist-packages (from pyngrok) (6.0.2)\n"
          ]
        }
      ],
      "source": [
        "! pip install flask-ngrok\n",
        "! pip install pyngrok\n",
        "from heapq import heappop, heappush, heapify\n",
        "from flask import Flask, send_from_directory,jsonify,request\n",
        "from flask_ngrok import run_with_ngrok\n",
        "from pyngrok import ngrok"
      ]
    },
    {
      "cell_type": "code",
      "execution_count": 6,
      "metadata": {
        "id": "A9iJJjJ-ThDS"
      },
      "outputs": [],
      "source": [
        "def Minimizer(graph):\n",
        "  numperson = len(graph)\n",
        "  final = [[0]*numperson for _ in range(numperson)]\n",
        "  Maxheap = []\n",
        "  Minheap = []\n",
        "  heapify(Maxheap)\n",
        "  heapify(Minheap)\n",
        "  amount = [0] * numperson\n",
        "\n",
        "  for i in range(numperson):\n",
        "    for j in range(numperson):\n",
        "      amount[j]+=(graph[i][j]-graph[j][i])\n",
        "\n",
        "  for i in range(numperson):\n",
        "    if(amount[i]>0): heappush(Maxheap,(-amount[i],i))\n",
        "    if(amount[i]<0): heappush(Minheap,(amount[i],i))\n",
        "\n",
        "  while((len(Maxheap)>0) and (len(Minheap)>0)):\n",
        "    maxelem = heappop(Maxheap)\n",
        "    minelem = heappop(Minheap)\n",
        "    maxCreditInd = maxelem[1]\n",
        "    maxDebitInd = minelem[1]\n",
        "    minimum = min(amount[maxCreditInd],-amount[maxDebitInd])\n",
        "    amount[maxCreditInd]-=minimum\n",
        "    amount[maxDebitInd]+=minimum\n",
        "    final[maxDebitInd][maxCreditInd]=minimum\n",
        "    if(amount[maxCreditInd]>0):\n",
        "      heappush(Maxheap,(-amount[maxCreditInd],maxCreditInd))\n",
        "    if(amount[maxDebitInd]<0):\n",
        "      heappush(Minheap,(amount[maxDebitInd],maxDebitInd))\n",
        "\n",
        "  return final"
      ]
    },
    {
      "cell_type": "code",
      "execution_count": 3,
      "metadata": {
        "colab": {
          "base_uri": "https://localhost:8080/"
        },
        "id": "M0sNwb-0oPdC",
        "outputId": "f4acffa0-10c1-4bba-f773-0032c6ab4d83"
      },
      "outputs": [
        {
          "data": {
            "text/plain": [
              "[[0, 124, 0, 0, 0],\n",
              " [0, 0, 0, 0, 0],\n",
              " [0, 0, 0, 0, 0],\n",
              " [0, 30, 33, 0, 61],\n",
              " [0, 0, 0, 0, 0]]"
            ]
          },
          "execution_count": 3,
          "metadata": {},
          "output_type": "execute_result"
        }
      ],
      "source": [
        "graph2 = [\n",
        "    [2, 63, 0, 85, 49],\n",
        "    [0, 76, 0, 0, 27],\n",
        "    [0, 0, 0, 17, 0],\n",
        "    [73, 32, 50, 6, 71],\n",
        "    [0, 86, 0, 0, 10]\n",
        "]\n",
        "Minimizer(graph2)"
      ]
    },
    {
      "cell_type": "code",
      "execution_count": 7,
      "metadata": {
        "colab": {
          "base_uri": "https://localhost:8080/"
        },
        "id": "BoPE3k9uoRZx",
        "outputId": "0ec7df52-cfa2-4123-9ab2-6e9acea051fb"
      },
      "outputs": [
        {
          "name": "stdout",
          "output_type": "stream",
          "text": [
            "Ngrok Tunnel URL: NgrokTunnel: \"https://c856-34-145-156-236.ngrok-free.app\" -> \"http://localhost:5000\"\n",
            " * Serving Flask app '__main__'\n",
            " * Debug mode: off\n"
          ]
        },
        {
          "name": "stderr",
          "output_type": "stream",
          "text": [
            "INFO:werkzeug:\u001b[31m\u001b[1mWARNING: This is a development server. Do not use it in a production deployment. Use a production WSGI server instead.\u001b[0m\n",
            " * Running on http://127.0.0.1:5000\n",
            "INFO:werkzeug:\u001b[33mPress CTRL+C to quit\u001b[0m\n"
          ]
        },
        {
          "name": "stdout",
          "output_type": "stream",
          "text": [
            " * Running on http://c856-34-145-156-236.ngrok-free.app\n",
            " * Traffic stats available on http://127.0.0.1:4040\n"
          ]
        },
        {
          "name": "stderr",
          "output_type": "stream",
          "text": [
            "INFO:werkzeug:127.0.0.1 - - [11/Aug/2024 05:55:14] \"GET / HTTP/1.1\" 200 -\n",
            "INFO:werkzeug:127.0.0.1 - - [11/Aug/2024 05:55:14] \"GET /style.css HTTP/1.1\" 200 -\n",
            "INFO:werkzeug:127.0.0.1 - - [11/Aug/2024 05:55:15] \"GET /script.js HTTP/1.1\" 200 -\n",
            "INFO:werkzeug:127.0.0.1 - - [11/Aug/2024 05:55:15] \"\u001b[33mGET /favicon.ico HTTP/1.1\u001b[0m\" 404 -\n",
            "INFO:werkzeug:127.0.0.1 - - [11/Aug/2024 05:57:29] \"POST /send HTTP/1.1\" 200 -\n"
          ]
        },
        {
          "name": "stdout",
          "output_type": "stream",
          "text": [
            "[[0, 0, 0], [224, 0, 397], [0, 0, 0]]\n"
          ]
        },
        {
          "name": "stderr",
          "output_type": "stream",
          "text": [
            "INFO:werkzeug:127.0.0.1 - - [11/Aug/2024 05:59:43] \"GET / HTTP/1.1\" 200 -\n",
            "INFO:werkzeug:127.0.0.1 - - [11/Aug/2024 05:59:44] \"GET /style.css HTTP/1.1\" 200 -\n",
            "INFO:werkzeug:127.0.0.1 - - [11/Aug/2024 05:59:44] \"GET /script.js HTTP/1.1\" 200 -\n",
            "INFO:werkzeug:127.0.0.1 - - [11/Aug/2024 05:59:45] \"\u001b[33mGET /favicon.ico HTTP/1.1\u001b[0m\" 404 -\n",
            "INFO:werkzeug:127.0.0.1 - - [11/Aug/2024 06:01:33] \"POST /send HTTP/1.1\" 200 -\n"
          ]
        },
        {
          "name": "stdout",
          "output_type": "stream",
          "text": [
            "[[0, 1100, 0, 0], [0, 0, 0, 0], [0, 600, 0, 0], [0, 2000, 0, 0]]\n"
          ]
        },
        {
          "name": "stderr",
          "output_type": "stream",
          "text": [
            "INFO:werkzeug:127.0.0.1 - - [11/Aug/2024 06:02:13] \"\u001b[36mGET /style.css HTTP/1.1\u001b[0m\" 304 -\n"
          ]
        }
      ],
      "source": [
        "app = Flask(__name__)\n",
        "run_with_ngrok(app)\n",
        "path = '/content/Scripts'\n",
        "\n",
        "@app.route(\"/\")\n",
        "def html():\n",
        "    return send_from_directory(path, 'index.html')\n",
        "\n",
        "@app.route('/style.css')\n",
        "def style():\n",
        "    return send_from_directory(path, 'style.css')\n",
        "\n",
        "@app.route('/script.js')\n",
        "def script():\n",
        "    return send_from_directory(path, 'script.js')\n",
        "\n",
        "@app.route('/send', methods=['POST'])\n",
        "def submit():\n",
        "    graph = request.get_json()\n",
        "\n",
        "    final_graph = Minimizer(graph)\n",
        "    print(final_graph)\n",
        "\n",
        "    return jsonify(final_graph)\n",
        "\n",
        "if __name__ == '__main__':\n",
        "    ngrok.kill()\n",
        "\n",
        "    ngrok.set_auth_token('YOUR AUTH TOKEN')\n",
        "\n",
        "    public_url = ngrok.connect(addr='5000')\n",
        "    print(f'Ngrok Tunnel URL: {public_url}')\n",
        "\n",
        "    app.run()"
      ]
    }
  ],
  "metadata": {
    "colab": {
      "provenance": []
    },
    "kernelspec": {
      "display_name": "Python 3",
      "name": "python3"
    },
    "language_info": {
      "name": "python"
    }
  },
  "nbformat": 4,
  "nbformat_minor": 0
}
